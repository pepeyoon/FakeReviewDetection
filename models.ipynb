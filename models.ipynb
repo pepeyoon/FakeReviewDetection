{
 "cells": [
  {
   "cell_type": "code",
   "execution_count": 2,
   "id": "a95e8122",
   "metadata": {},
   "outputs": [
    {
     "name": "stdout",
     "output_type": "stream",
     "text": [
      "Collecting seaborn\n",
      "  Downloading seaborn-0.13.0-py3-none-any.whl (294 kB)\n",
      "\u001b[2K     \u001b[90m━━━━━━━━━━━━━━━━━━━━━━━━━━━━━━━━━━━━━━━\u001b[0m \u001b[32m294.6/294.6 kB\u001b[0m \u001b[31m4.8 MB/s\u001b[0m eta \u001b[36m0:00:00\u001b[0ma \u001b[36m0:00:01\u001b[0m\n",
      "\u001b[?25hRequirement already satisfied: matplotlib!=3.6.1,>=3.3 in /opt/homebrew/anaconda3/envs/OptAnalytics/lib/python3.10/site-packages (from seaborn) (3.8.0)\n",
      "Requirement already satisfied: pandas>=1.2 in /opt/homebrew/anaconda3/envs/OptAnalytics/lib/python3.10/site-packages (from seaborn) (1.5.3)\n",
      "Requirement already satisfied: numpy!=1.24.0,>=1.20 in /opt/homebrew/anaconda3/envs/OptAnalytics/lib/python3.10/site-packages (from seaborn) (1.24.3)\n",
      "Requirement already satisfied: cycler>=0.10 in /opt/homebrew/anaconda3/envs/OptAnalytics/lib/python3.10/site-packages (from matplotlib!=3.6.1,>=3.3->seaborn) (0.12.1)\n",
      "Requirement already satisfied: packaging>=20.0 in /opt/homebrew/anaconda3/envs/OptAnalytics/lib/python3.10/site-packages (from matplotlib!=3.6.1,>=3.3->seaborn) (23.0)\n",
      "Requirement already satisfied: kiwisolver>=1.0.1 in /opt/homebrew/anaconda3/envs/OptAnalytics/lib/python3.10/site-packages (from matplotlib!=3.6.1,>=3.3->seaborn) (1.4.5)\n",
      "Requirement already satisfied: fonttools>=4.22.0 in /opt/homebrew/anaconda3/envs/OptAnalytics/lib/python3.10/site-packages (from matplotlib!=3.6.1,>=3.3->seaborn) (4.43.1)\n",
      "Requirement already satisfied: pyparsing>=2.3.1 in /opt/homebrew/anaconda3/envs/OptAnalytics/lib/python3.10/site-packages (from matplotlib!=3.6.1,>=3.3->seaborn) (3.1.1)\n",
      "Requirement already satisfied: python-dateutil>=2.7 in /opt/homebrew/anaconda3/envs/OptAnalytics/lib/python3.10/site-packages (from matplotlib!=3.6.1,>=3.3->seaborn) (2.8.2)\n",
      "Requirement already satisfied: pillow>=6.2.0 in /opt/homebrew/anaconda3/envs/OptAnalytics/lib/python3.10/site-packages (from matplotlib!=3.6.1,>=3.3->seaborn) (10.1.0)\n",
      "Requirement already satisfied: contourpy>=1.0.1 in /opt/homebrew/anaconda3/envs/OptAnalytics/lib/python3.10/site-packages (from matplotlib!=3.6.1,>=3.3->seaborn) (1.1.1)\n",
      "Requirement already satisfied: pytz>=2020.1 in /opt/homebrew/anaconda3/envs/OptAnalytics/lib/python3.10/site-packages (from pandas>=1.2->seaborn) (2022.7)\n",
      "Requirement already satisfied: six>=1.5 in /opt/homebrew/anaconda3/envs/OptAnalytics/lib/python3.10/site-packages (from python-dateutil>=2.7->matplotlib!=3.6.1,>=3.3->seaborn) (1.16.0)\n",
      "Installing collected packages: seaborn\n",
      "Successfully installed seaborn-0.13.0\n",
      "Note: you may need to restart the kernel to use updated packages.\n"
     ]
    }
   ],
   "source": [
    "pip install seaborn"
   ]
  },
  {
   "cell_type": "code",
   "execution_count": 4,
   "id": "0aa382c6",
   "metadata": {},
   "outputs": [
    {
     "name": "stdout",
     "output_type": "stream",
     "text": [
      "Collecting gensim\n",
      "  Downloading gensim-4.3.2-cp310-cp310-macosx_11_0_arm64.whl (24.0 MB)\n",
      "\u001b[2K     \u001b[90m━━━━━━━━━━━━━━━━━━━━━━━━━━━━━━━━━━━━━━━━\u001b[0m \u001b[32m24.0/24.0 MB\u001b[0m \u001b[31m22.6 MB/s\u001b[0m eta \u001b[36m0:00:00\u001b[0m00:01\u001b[0m00:01\u001b[0m\n",
      "\u001b[?25hRequirement already satisfied: numpy>=1.18.5 in /opt/homebrew/anaconda3/envs/OptAnalytics/lib/python3.10/site-packages (from gensim) (1.24.3)\n",
      "Requirement already satisfied: scipy>=1.7.0 in /opt/homebrew/anaconda3/envs/OptAnalytics/lib/python3.10/site-packages (from gensim) (1.11.3)\n",
      "Collecting smart-open>=1.8.1\n",
      "  Downloading smart_open-6.4.0-py3-none-any.whl (57 kB)\n",
      "\u001b[2K     \u001b[90m━━━━━━━━━━━━━━━━━━━━━━━━━━━━━━━━━━━━━━━━\u001b[0m \u001b[32m57.0/57.0 kB\u001b[0m \u001b[31m7.8 MB/s\u001b[0m eta \u001b[36m0:00:00\u001b[0m\n",
      "\u001b[?25hInstalling collected packages: smart-open, gensim\n",
      "Successfully installed gensim-4.3.2 smart-open-6.4.0\n",
      "Note: you may need to restart the kernel to use updated packages.\n"
     ]
    }
   ],
   "source": [
    "pip install gensim"
   ]
  },
  {
   "cell_type": "code",
   "execution_count": 5,
   "id": "5253ef9e",
   "metadata": {},
   "outputs": [],
   "source": [
    "import numpy as np\n",
    "import pandas as pd\n",
    "from sklearn.naive_bayes import MultinomialNB\n",
    "from sklearn.model_selection import train_test_split\n",
    "from sklearn.feature_extraction.text import TfidfVectorizer, CountVectorizer\n",
    "from sklearn.pipeline import Pipeline\n",
    "from sklearn.ensemble import RandomForestClassifier,GradientBoostingClassifier\n",
    "from sklearn.metrics import accuracy_score, classification_report, confusion_matrix, ConfusionMatrixDisplay\n",
    "from sklearn.model_selection import cross_val_score\n",
    "from sklearn.metrics import mean_squared_error\n",
    "\n",
    "import pandas as pd\n",
    "import string\n",
    "import nltk\n",
    "from nltk.tokenize import word_tokenize\n",
    "import matplotlib.pyplot as plt\n",
    "import seaborn as sns\n",
    "import sklearn\n",
    "from sklearn.linear_model import LogisticRegression\n",
    "from sklearn.metrics import accuracy_score, classification_report\n",
    "from gensim.utils import simple_preprocess\n",
    "from gensim.models import Word2Vec\n",
    "from sklearn.model_selection import train_test_split\n",
    "from sklearn.metrics import confusion_matrix\n",
    "from sklearn.metrics import roc_auc_score, precision_score, recall_score\n",
    "from sklearn.naive_bayes import GaussianNB\n",
    "from sklearn.ensemble import RandomForestClassifier\n",
    "from sklearn.ensemble import GradientBoostingClassifier\n",
    "\n",
    "from sklearn.metrics import (\n",
    "    accuracy_score,\n",
    "    classification_report,\n",
    "    confusion_matrix,\n",
    "    roc_curve,\n",
    "    roc_auc_score,\n",
    "    auc\n",
    ")"
   ]
  },
  {
   "cell_type": "code",
   "execution_count": 6,
   "id": "16e654e3",
   "metadata": {},
   "outputs": [],
   "source": [
    "df = pd.read_csv(\"fake review cleaned.csv\")\n",
    "df = df.drop(['Unnamed: 0'], axis=1)\n",
    "df = df.dropna(subset=['cleaned_text'])"
   ]
  },
  {
   "cell_type": "markdown",
   "id": "cef32c67",
   "metadata": {},
   "source": [
    "## TF-LDF Vectorizer"
   ]
  },
  {
   "cell_type": "markdown",
   "id": "a2244400",
   "metadata": {},
   "source": [
    "## MNB "
   ]
  },
  {
   "cell_type": "code",
   "execution_count": 7,
   "id": "05b4116a",
   "metadata": {},
   "outputs": [],
   "source": [
    "X = df['cleaned_text']\n",
    "y = df.label.values"
   ]
  },
  {
   "cell_type": "code",
   "execution_count": 8,
   "id": "917bfef0",
   "metadata": {},
   "outputs": [],
   "source": [
    "X_train, X_test, y_train, y_test = train_test_split(X,y,test_size=0.2,shuffle=True,random_state=42)\n",
    "mnb = Pipeline(steps=[('pre_processing',TfidfVectorizer(lowercase=False)),('mnb',MultinomialNB(alpha=1))])\n",
    "mnb.fit(X_train,y_train)\n",
    "pred = mnb.predict(X_test)"
   ]
  },
  {
   "cell_type": "code",
   "execution_count": 9,
   "id": "90548620",
   "metadata": {},
   "outputs": [
    {
     "name": "stdout",
     "output_type": "stream",
     "text": [
      "Accuracy: 0.8743662668480277\n",
      "Classification Report:\n",
      "              precision    recall  f1-score   support\n",
      "\n",
      "           0       0.92      0.82      0.87      4069\n",
      "           1       0.84      0.93      0.88      4018\n",
      "\n",
      "    accuracy                           0.87      8087\n",
      "   macro avg       0.88      0.87      0.87      8087\n",
      "weighted avg       0.88      0.87      0.87      8087\n",
      "\n",
      "Root Mean Squared Error:  0\n",
      "\n",
      "ROC AUC: \n",
      "0.8746888082028512\n"
     ]
    }
   ],
   "source": [
    "# probability = model.predict_proba(x_test)\n",
    "accuracy = accuracy_score(y_test, pred)\n",
    "print(\"Accuracy:\", accuracy)\n",
    "print(\"Classification Report:\")\n",
    "print(classification_report(y_test, pred))\n",
    "print(\"Root Mean Squared Error: \", round(np.sqrt(mean_squared_error(y_test, pred))) )\n",
    "mnb_roc_auc = roc_auc_score(y_test, pred)\n",
    "print(\"\\nROC AUC: \")\n",
    "print(mnb_roc_auc)"
   ]
  },
  {
   "cell_type": "code",
   "execution_count": 10,
   "id": "2ffbb64c",
   "metadata": {},
   "outputs": [
    {
     "data": {
      "image/png": "[encoded data removed]",
      "text/plain": [
       "<Figure size 640x480 with 2 Axes>"
      ]
     },
     "metadata": {},
     "output_type": "display_data"
    }
   ],
   "source": [
    "# confusion matrix\n",
    "labels = [0,1]\n",
    "cm = confusion_matrix(y_test, pred)\n",
    "disp = ConfusionMatrixDisplay(confusion_matrix=cm, display_labels=labels)\n",
    "disp.plot();"
   ]
  },
  {
   "cell_type": "markdown",
   "id": "add4442e",
   "metadata": {},
   "source": [
    "## Random Forest"
   ]
  },
  {
   "cell_type": "code",
   "execution_count": 11,
   "id": "467a67a2",
   "metadata": {},
   "outputs": [
    {
     "name": "stdout",
     "output_type": "stream",
     "text": [
      "Random Forest Classifier\n",
      "Accuracy: 0.8850006182762459\n",
      "              precision    recall  f1-score   support\n",
      "\n",
      "           0       0.90      0.86      0.88      4069\n",
      "           1       0.87      0.91      0.89      4018\n",
      "\n",
      "    accuracy                           0.89      8087\n",
      "   macro avg       0.89      0.89      0.88      8087\n",
      "weighted avg       0.89      0.89      0.88      8087\n",
      "\n",
      "\n",
      "ROC AUC: \n",
      "0.8851395373559214\n"
     ]
    }
   ],
   "source": [
    "rfc = Pipeline(steps=[('pre_processing',TfidfVectorizer(lowercase=False)),('random forest',RandomForestClassifier(n_estimators = 100, random_state=42))])\n",
    "rfc.fit(X_train,y_train)\n",
    "pred = rfc.predict(X_test)\n",
    "print(\"Random Forest Classifier\")\n",
    "print(\"Accuracy:\",accuracy_score(y_test,pred))\n",
    "print(classification_report(y_test, pred))\n",
    "confusion_matrix(y_test, pred)\n",
    "rfc_roc_auc = roc_auc_score(y_test, pred)\n",
    "print(\"\\nROC AUC: \")\n",
    "print(rfc_roc_auc)"
   ]
  },
  {
   "cell_type": "code",
   "execution_count": 12,
   "id": "d7ff1575",
   "metadata": {},
   "outputs": [
    {
     "data": {
      "image/png": "[encoded data removed]",
      "text/plain": [
       "<Figure size 640x480 with 2 Axes>"
      ]
     },
     "metadata": {},
     "output_type": "display_data"
    }
   ],
   "source": [
    "# confusion matrix\n",
    "labels = [0,1]\n",
    "cm = confusion_matrix(y_test, pred)\n",
    "disp = ConfusionMatrixDisplay(confusion_matrix=cm, display_labels=labels)\n",
    "disp.plot();"
   ]
  },
  {
   "cell_type": "markdown",
   "id": "c0fa2186",
   "metadata": {},
   "source": [
    "## Count2Vec"
   ]
  },
  {
   "cell_type": "code",
   "execution_count": 13,
   "id": "5e75c1e6",
   "metadata": {},
   "outputs": [],
   "source": [
    "model = Word2Vec(df['tokenized'], vector_size=100, window=5, min_count=1, sg=0, workers=4)"
   ]
  },
  {
   "cell_type": "code",
   "execution_count": 14,
   "id": "fcbb21bc",
   "metadata": {},
   "outputs": [],
   "source": [
    "def vectorize_text(text, model):\n",
    "    # Average the word vectors for the words in the text\n",
    "    vector = [model.wv[word] for word in text if word in model.wv]\n",
    "    if vector:\n",
    "        return sum(vector) / len(vector)\n",
    "    else:\n",
    "        return [0.0] * model.vector_size\n",
    "\n",
    "df['text_vectors'] = df['tokenized'].apply(lambda x: vectorize_text(x, model))"
   ]
  },
  {
   "cell_type": "code",
   "execution_count": 15,
   "id": "064875cc",
   "metadata": {},
   "outputs": [
    {
     "name": "stderr",
     "output_type": "stream",
     "text": [
      "/var/folders/r5/pzyqwyjx0dx2t_4tzqgy58c40000gn/T/ipykernel_33064/3727857230.py:5: PerformanceWarning: DataFrame is highly fragmented.  This is usually the result of calling `frame.insert` many times, which has poor performance.  Consider joining all columns at once using pd.concat(axis=1) instead. To get a de-fragmented frame, use `newframe = frame.copy()`\n",
      "  df[f'dimension_{i}'] = df['text_vectors'].apply(lambda vector: vector[i] if i < len(vector) else 0.0)\n",
      "/var/folders/r5/pzyqwyjx0dx2t_4tzqgy58c40000gn/T/ipykernel_33064/3727857230.py:5: PerformanceWarning: DataFrame is highly fragmented.  This is usually the result of calling `frame.insert` many times, which has poor performance.  Consider joining all columns at once using pd.concat(axis=1) instead. To get a de-fragmented frame, use `newframe = frame.copy()`\n",
      "  df[f'dimension_{i}'] = df['text_vectors'].apply(lambda vector: vector[i] if i < len(vector) else 0.0)\n",
      "/var/folders/r5/pzyqwyjx0dx2t_4tzqgy58c40000gn/T/ipykernel_33064/3727857230.py:5: PerformanceWarning: DataFrame is highly fragmented.  This is usually the result of calling `frame.insert` many times, which has poor performance.  Consider joining all columns at once using pd.concat(axis=1) instead. To get a de-fragmented frame, use `newframe = frame.copy()`\n",
      "  df[f'dimension_{i}'] = df['text_vectors'].apply(lambda vector: vector[i] if i < len(vector) else 0.0)\n",
      "/var/folders/r5/pzyqwyjx0dx2t_4tzqgy58c40000gn/T/ipykernel_33064/3727857230.py:5: PerformanceWarning: DataFrame is highly fragmented.  This is usually the result of calling `frame.insert` many times, which has poor performance.  Consider joining all columns at once using pd.concat(axis=1) instead. To get a de-fragmented frame, use `newframe = frame.copy()`\n",
      "  df[f'dimension_{i}'] = df['text_vectors'].apply(lambda vector: vector[i] if i < len(vector) else 0.0)\n"
     ]
    }
   ],
   "source": [
    "# Ensure consistent dimensions for word vectors\n",
    "max_dimensions = max(len(vector) for vector in df['text_vectors'])\n",
    "\n",
    "for i in range(max_dimensions):\n",
    "    df[f'dimension_{i}'] = df['text_vectors'].apply(lambda vector: vector[i] if i < len(vector) else 0.0)"
   ]
  },
  {
   "cell_type": "markdown",
   "id": "ca0ab129",
   "metadata": {},
   "source": [
    "# random forest"
   ]
  },
  {
   "cell_type": "code",
   "execution_count": 16,
   "id": "0c01a936",
   "metadata": {},
   "outputs": [],
   "source": [
    "X = df.drop('label', axis=1)  # Features\n",
    "y = df['label']  # Labels\n",
    "X_train, X_test, y_train, y_test = train_test_split(X, y, test_size=0.2, random_state=42)"
   ]
  },
  {
   "cell_type": "code",
   "execution_count": 17,
   "id": "f72c5e33",
   "metadata": {},
   "outputs": [],
   "source": [
    "# Choose which variables to use\n",
    "\n",
    "# List of columns to drop\n",
    "columns_to_drop = ['category', 'rate', 'tokenized', 'text_vectors','text_','cleaned_text']\n",
    "\n",
    "# Drop the selected columns\n",
    "Xrf = X_train.drop(columns=columns_to_drop, axis=1)\n",
    "yrf = y_train\n",
    "\n",
    "Xrf_test = X_test.drop(columns=columns_to_drop, axis=1)"
   ]
  },
  {
   "cell_type": "code",
   "execution_count": 18,
   "id": "1d41304a",
   "metadata": {},
   "outputs": [
    {
     "name": "stdout",
     "output_type": "stream",
     "text": [
      "Random Forest Classifier\n",
      "acc: 0.8141461605045134\n",
      "              precision    recall  f1-score   support\n",
      "\n",
      "           0       0.82      0.81      0.81      4069\n",
      "           1       0.81      0.82      0.81      4018\n",
      "\n",
      "    accuracy                           0.81      8087\n",
      "   macro avg       0.81      0.81      0.81      8087\n",
      "weighted avg       0.81      0.81      0.81      8087\n",
      "\n",
      "\n",
      "ROC AUC: \n",
      "0.8141956978800607\n"
     ]
    }
   ],
   "source": [
    "rfc_c2v = RandomForestClassifier(n_estimators = 100, random_state=42)\n",
    "rfc_c2v.fit(Xrf,yrf)\n",
    "pred = rfc_c2v.predict(Xrf_test)\n",
    "print(\"Random Forest Classifier\")\n",
    "print(\"acc:\",accuracy_score(y_test,pred))\n",
    "print(classification_report(y_test, pred))\n",
    "confusion_matrix(y_test, pred)\n",
    "rfc_c2v_roc_auc = roc_auc_score(y_test, pred)\n",
    "print(\"\\nROC AUC: \")\n",
    "print(rfc_c2v_roc_auc)"
   ]
  },
  {
   "cell_type": "code",
   "execution_count": 19,
   "id": "e6598c56",
   "metadata": {},
   "outputs": [
    {
     "data": {
      "image/png": "[encoded data removed]",
      "text/plain": [
       "<Figure size 640x480 with 2 Axes>"
      ]
     },
     "metadata": {},
     "output_type": "display_data"
    }
   ],
   "source": [
    "# confusion matrix\n",
    "labels = [0,1]\n",
    "cm = confusion_matrix(y_test, pred)\n",
    "disp = ConfusionMatrixDisplay(confusion_matrix=cm, display_labels=labels)\n",
    "disp.plot();"
   ]
  },
  {
   "cell_type": "markdown",
   "id": "c56a36ab",
   "metadata": {},
   "source": [
    "# GBC"
   ]
  },
  {
   "cell_type": "code",
   "execution_count": 20,
   "id": "4a794bb5",
   "metadata": {},
   "outputs": [],
   "source": [
    "# Choose which variables to use\n",
    "\n",
    "# List of columns to drop\n",
    "columns_to_drop = ['category', 'rate', 'tokenized', 'text_vectors','text_','cleaned_text']\n",
    "\n",
    "# Drop the selected columns\n",
    "XGB = X_train.drop(columns=columns_to_drop, axis=1)\n",
    "yGB = y_train\n",
    "\n",
    "XGB_test = X_test.drop(columns=columns_to_drop, axis=1)"
   ]
  },
  {
   "cell_type": "code",
   "execution_count": 21,
   "id": "fb91447d",
   "metadata": {},
   "outputs": [],
   "source": [
    "gbc_c2v = GradientBoostingClassifier(n_estimators=100, random_state=42)\n",
    "gbc_c2v.fit(XGB, yGB)\n",
    "pred = gbc_c2v.predict(XGB_test)"
   ]
  },
  {
   "cell_type": "code",
   "execution_count": 23,
   "id": "6436c480",
   "metadata": {},
   "outputs": [
    {
     "name": "stdout",
     "output_type": "stream",
     "text": [
      "Gradient Boosting Classifier\n",
      "acc: 0.8125386422653642\n",
      "              precision    recall  f1-score   support\n",
      "\n",
      "           0       0.82      0.80      0.81      4069\n",
      "           1       0.81      0.82      0.81      4018\n",
      "\n",
      "    accuracy                           0.81      8087\n",
      "   macro avg       0.81      0.81      0.81      8087\n",
      "weighted avg       0.81      0.81      0.81      8087\n",
      "\n",
      "\n",
      "ROC AUC: \n",
      "0.8125904552639199\n"
     ]
    }
   ],
   "source": [
    "print(\"Gradient Boosting Classifier\")\n",
    "print(\"acc:\",accuracy_score(y_test,pred))\n",
    "print(classification_report(y_test, pred))\n",
    "confusion_matrix(y_test, pred)\n",
    "gbc_c2v_roc_auc = roc_auc_score(y_test, pred)\n",
    "print(\"\\nROC AUC: \")\n",
    "print(gbc_c2v_roc_auc)"
   ]
  },
  {
   "cell_type": "code",
   "execution_count": 24,
   "id": "ddb1c28b",
   "metadata": {},
   "outputs": [
    {
     "data": {
      "image/png": "[encoded data removed]",
      "text/plain": [
       "<Figure size 640x480 with 2 Axes>"
      ]
     },
     "metadata": {},
     "output_type": "display_data"
    }
   ],
   "source": [
    "# confusion matrix\n",
    "labels = [0,1]\n",
    "cm = confusion_matrix(y_test, pred)\n",
    "disp = ConfusionMatrixDisplay(confusion_matrix=cm, display_labels=labels)\n",
    "disp.plot();"
   ]
  },
  {
   "cell_type": "code",
   "execution_count": 26,
   "id": "86de2299",
   "metadata": {},
   "outputs": [
    {
     "data": {
      "text/plain": [
       "['vectorizer.joblib']"
      ]
     },
     "execution_count": 26,
     "metadata": {},
     "output_type": "execute_result"
    }
   ],
   "source": [
    "\n",
    "\n",
    "# Assuming that 'mnb' is your trained Multinomial Naive Bayes model\n",
    "import joblib\n",
    "\n",
    "# Save the trained model using joblib\n",
    "joblib.dump(mnb, 'mnb_model.joblib')\n",
    "# Save the vectorizer using joblib\n",
    "joblib.dump(mnb.named_steps['pre_processing'], 'vectorizer.joblib')\n"
   ]
  },
  {
   "cell_type": "markdown",
   "id": "946baf3f",
   "metadata": {},
   "source": [
    "# Define your models\n",
    "models = [\n",
    "    {'label': 'Multinomial Naive Bayes TF-LDF', 'model': mnb},\n",
    "    {'label': 'Random Forest Classifier TF-LDF', 'model': rfc},\n",
    "    {'label': 'Random Forest Classifier C2V', 'model': rfc_c2v},\n",
    "    {'label': 'Gradient Boosting Classifier', 'model': gbc_c2v}\n",
    "]\n",
    "\n",
    "# Initialize lists to store model labels, false positive rates, true positive rates, and AUC scores\n",
    "model_labels = []\n",
    "model_fpr = []\n",
    "model_tpr = []\n",
    "model_auc = []\n",
    "\n",
    "for m in models:\n",
    "    model = m['model']  # select the model\n",
    "    y_pred_proba = model.predict_proba(XGB_test)[:, 1]  # Predict probabilities for the positive class\n",
    "    fpr, tpr, thresholds = roc_curve(y_test, y_pred_proba)\n",
    "    auc_s = roc_auc_score(y_test, y_pred_proba)\n",
    "    \n",
    "    # Store data for each model\n",
    "    model_labels.append('%s (AUC = %0.2f)' % (m['label'], auc_s))\n",
    "    model_fpr.append(fpr)\n",
    "    model_tpr.append(tpr)\n",
    "    model_auc.append(auc_s)\n",
    "\n",
    "# Plot ROC curves for both models\n",
    "plt.figure(figsize=[8, 6])\n",
    "\n",
    "for label, fpr, tpr in zip(model_labels, model_fpr, model_tpr):\n",
    "    plt.plot(fpr, tpr, label=label)\n",
    "\n",
    "# Add the 45-degree line\n",
    "plt.plot([0, 1], [0, 1], 'r--')\n",
    "\n",
    "plt.xlim([0.0, 1.0])\n",
    "plt.ylim([0.0, 1.05])\n",
    "plt.xlabel('False Positive Rate')\n",
    "plt.ylabel('True Positive Rate')\n",
    "plt.title('Receiver Operating Characteristic (ROC) - Multiple Models')\n",
    "plt.legend(loc=\"lower right\")\n",
    "plt.show()"
   ]
  },
  {
   "cell_type": "code",
   "execution_count": null,
   "id": "b00adf39",
   "metadata": {},
   "outputs": [],
   "source": []
  }
 ],
 "metadata": {
  "kernelspec": {
   "display_name": "Python 3 (ipykernel)",
   "language": "python",
   "name": "python3"
  },
  "language_info": {
   "codemirror_mode": {
    "name": "ipython",
    "version": 3
   },
   "file_extension": ".py",
   "mimetype": "text/x-python",
   "name": "python",
   "nbconvert_exporter": "python",
   "pygments_lexer": "ipython3",
   "version": "3.10.11"
  }
 },
 "nbformat": 4,
 "nbformat_minor": 5
}
